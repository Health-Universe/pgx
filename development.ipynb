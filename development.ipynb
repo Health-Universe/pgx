{
  "nbformat": 4,
  "nbformat_minor": 0,
  "metadata": {
    "colab": {
      "provenance": [],
      "authorship_tag": "ABX9TyOCfcZPCPoveMBdu5xDBqxX",
      "include_colab_link": true
    },
    "kernelspec": {
      "name": "python3",
      "display_name": "Python 3"
    },
    "language_info": {
      "name": "python"
    }
  },
  "cells": [
    {
      "cell_type": "markdown",
      "metadata": {
        "id": "view-in-github",
        "colab_type": "text"
      },
      "source": [
        "<a href=\"https://colab.research.google.com/github/ufbfung/pgx/blob/main/development.ipynb\" target=\"_parent\"><img src=\"https://colab.research.google.com/assets/colab-badge.svg\" alt=\"Open In Colab\"/></a>"
      ]
    },
    {
      "cell_type": "code",
      "execution_count": 5,
      "metadata": {
        "id": "I3RTYQWPUkZ3"
      },
      "outputs": [],
      "source": [
        "import streamlit as st\n",
        "import requests\n",
        "import json\n",
        "\n",
        "# Define static parameters\n",
        "cpic_api_url = \"https://api.cpicpgx.org/v1/\"\n",
        "drug_api_url = cpic_api_url + \"drug\"\n",
        "guideline_api_url = cpic_api_url + \"guideline\"\n",
        "recommendation_view_api_url = cpic_api_url + \"recommendation_view\"\n",
        "\n",
        "# Define functions\n",
        "\n",
        "def get_guidelineid_from_drug(json_data):\n",
        "    try:\n",
        "        data_list = json_data\n",
        "        guideline_id = data_list[0].get(\"guidelineid\") if data_list and isinstance(data_list, list) and len(data_list) > 0 else None\n",
        "        return guideline_id\n",
        "    except json.JSONDecodeError as e:\n",
        "        st.error(f\"Error decoding JSON: {e}\")\n",
        "        return None\n",
        "    except Exception as e:\n",
        "        st.error(f\"Error: {e}\")\n",
        "        return None\n",
        "\n",
        "def get_drug_data(drug):\n",
        "    url = f\"{drug_api_url}?name=eq.{drug}\"\n",
        "    try:\n",
        "        response = requests.get(url)\n",
        "        if response.status_code == 200:\n",
        "            return response.json()\n",
        "        else:\n",
        "            st.error(f\"Error: {response.status_code} - {response.text}\")\n",
        "            return None\n",
        "    except requests.exceptions.RequestException as e:\n",
        "        st.error(f\"Error: {e}\")\n",
        "        return None\n",
        "\n",
        "def get_recommendation_for_drug(drug):\n",
        "    url = f\"{recommendation_view_api_url}?drugname=eq.{drug}\"\n",
        "    try:\n",
        "        response = requests.get(url)\n",
        "        if response.status_code == 200:\n",
        "            return response.json()\n",
        "        else:\n",
        "            st.error(f\"Error: {response.status_code} - {response.text}\")\n",
        "            return None\n",
        "    except requests.exceptions.RequestException as e:\n",
        "        st.error(f\"Error: {e}\")\n",
        "        return None\n",
        "\n",
        "def get_guideline(guideline_id):\n",
        "    url = f\"{guideline_api_url}?id=eq.{guideline_id}\"\n",
        "    try:\n",
        "        response = requests.get(url)\n",
        "        if response.status_code == 200:\n",
        "            return response.json()\n",
        "        else:\n",
        "            st.error(f\"Error: {response.status_code} - {response.text}\")\n",
        "            return None\n",
        "    except requests.exceptions.RequestException as e:\n",
        "        st.error(f\"Error: {e}\")\n",
        "        return None\n",
        "\n",
        "def get_guideline_for_specific_drug(drug):\n",
        "    drug_data = get_drug_data(drug)\n",
        "    guideline_id = get_guidelineid_from_drug(drug_data)\n",
        "    guideline_data = get_guideline(guideline_id)\n",
        "\n",
        "    if guideline_data:\n",
        "        st.subheader(\"Retrieved Guideline Data:\")\n",
        "        st.json(guideline_data)\n",
        "    else:\n",
        "        st.error(\"Error retrieving guideline data.\")\n",
        "\n",
        "def main():\n",
        "    st.title(\"Recommendation Viewer\")\n",
        "\n",
        "    drug = st.selectbox(\"Select a drug:\", ['codeine', 'abacavir', 'simvastatin'])\n",
        "\n",
        "    if st.button(\"Fetch Recommendation(s)\"):\n",
        "        get_recommendation_for_drug(drug)\n",
        "\n",
        "if __name__ == \"__main__\":\n",
        "    main()"
      ]
    }
  ]
}